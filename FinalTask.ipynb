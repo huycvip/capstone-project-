{
 "cells": [
  {
   "cell_type": "code",
   "execution_count": 1,
   "id": "87608965-8d18-40f9-81c3-9aad37156d96",
   "metadata": {},
   "outputs": [],
   "source": [
    "import mysql.connector as connector"
   ]
  },
  {
   "cell_type": "code",
   "execution_count": 4,
   "id": "33f9334d-dc4d-4888-85f5-7c3d50afd3b8",
   "metadata": {},
   "outputs": [],
   "source": [
    "connection = connector.connect(user = \"root\", password = \"Password\")"
   ]
  },
  {
   "cell_type": "code",
   "execution_count": 6,
   "id": "a248dec8-2daf-460e-9045-9183134655c2",
   "metadata": {},
   "outputs": [],
   "source": [
    "try:\n",
    "    conn = connector.connect(user = \"root\", password = \"Password\", database=\"littlelemondb\")\n",
    "except connector.Error as err:\n",
    "    if err.errno == error.ER_ACCESS_DENIED_ERROR:\n",
    "        print(\"User or Password are incorrect\")\n",
    "    elif err.errno == error.ER_BAD_DB_ERROR:\n",
    "        print(\"Database doesn't exist\")\n",
    "    else:\n",
    "        print(\"Something went wrong: {}\".formar(err))"
   ]
  },
  {
   "cell_type": "code",
   "execution_count": 7,
   "id": "acfd0b06-5a5a-4faf-be25-b001b9fe3edf",
   "metadata": {},
   "outputs": [],
   "source": [
    "cursor = connection.cursor()"
   ]
  },
  {
   "cell_type": "code",
   "execution_count": 9,
   "id": "626deda4-463e-450a-9acc-efca7ccb2186",
   "metadata": {},
   "outputs": [],
   "source": [
    "cursor.execute(\"USE littlelemondb\")"
   ]
  },
  {
   "cell_type": "code",
   "execution_count": 10,
   "id": "01f3d2bf-0303-42a8-9d67-45f1cb5cef01",
   "metadata": {},
   "outputs": [],
   "source": [
    "show_tables_query = \"SHOW tables;\""
   ]
  },
  {
   "cell_type": "code",
   "execution_count": 11,
   "id": "dbf16fb7-99d8-4106-8a9e-077d8a4e86aa",
   "metadata": {},
   "outputs": [],
   "source": [
    "cursor.execute(show_tables_query)"
   ]
  },
  {
   "cell_type": "code",
   "execution_count": 12,
   "id": "0e33bbc8-804d-4acd-ae5d-2f9120f24eeb",
   "metadata": {},
   "outputs": [
    {
     "name": "stdout",
     "output_type": "stream",
     "text": [
      "('booking',)\n",
      "('customer',)\n",
      "('customersordersview',)\n",
      "('deliverystatus',)\n",
      "('menuitems',)\n",
      "('menus',)\n",
      "('menuview',)\n",
      "('orders',)\n",
      "('ordersview',)\n",
      "('staff',)\n"
     ]
    }
   ],
   "source": [
    "for rows in cursor:\n",
    "    print(rows)"
   ]
  },
  {
   "cell_type": "code",
   "execution_count": 13,
   "id": "5c20a171-d37c-4f77-91fd-e24e375a43de",
   "metadata": {},
   "outputs": [],
   "source": [
    "query = \"\"\"\n",
    "SELECT \n",
    "    Customer.FullName,\n",
    "    Customer.ContactNumber,\n",
    "    Orders.Cost\n",
    "FROM \n",
    "    Customer\n",
    "JOIN \n",
    "    Orders\n",
    "ON \n",
    "    Customer.CustomerID = Orders.CustomerID\n",
    "WHERE \n",
    "    Orders.Cost > 60;\n",
    "\"\"\""
   ]
  },
  {
   "cell_type": "code",
   "execution_count": 14,
   "id": "b534d3f2-d766-4d87-881f-2eeac7f4f07f",
   "metadata": {},
   "outputs": [],
   "source": [
    "cursor.execute(query)"
   ]
  },
  {
   "cell_type": "code",
   "execution_count": 15,
   "id": "9b37fba9-0355-4370-8586-2b7d495e3587",
   "metadata": {},
   "outputs": [],
   "source": [
    "results = cursor.fetchall()"
   ]
  },
  {
   "cell_type": "code",
   "execution_count": 16,
   "id": "acb82131-38e8-4e61-a502-9adf3d9a8b00",
   "metadata": {},
   "outputs": [],
   "source": [
    "for row in results:\n",
    "    print(row)"
   ]
  },
  {
   "cell_type": "code",
   "execution_count": 17,
   "id": "307331ea-9277-40e1-b7a7-b042fff861b3",
   "metadata": {},
   "outputs": [],
   "source": [
    "cursor.close()\n",
    "connection.close()"
   ]
  },
  {
   "cell_type": "code",
   "execution_count": null,
   "id": "4d62b058-2b39-4ea9-a131-1b486aa74aad",
   "metadata": {},
   "outputs": [],
   "source": []
  }
 ],
 "metadata": {
  "kernelspec": {
   "display_name": "Python 3 (ipykernel)",
   "language": "python",
   "name": "python3"
  },
  "language_info": {
   "codemirror_mode": {
    "name": "ipython",
    "version": 3
   },
   "file_extension": ".py",
   "mimetype": "text/x-python",
   "name": "python",
   "nbconvert_exporter": "python",
   "pygments_lexer": "ipython3",
   "version": "3.12.2"
  }
 },
 "nbformat": 4,
 "nbformat_minor": 5
}
